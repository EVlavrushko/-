{
  "nbformat": 4,
  "nbformat_minor": 0,
  "metadata": {
    "colab": {
      "provenance": [],
      "collapsed_sections": [
        "ki-9Rm8nJROi"
      ]
    },
    "kernelspec": {
      "name": "python3",
      "display_name": "Python 3"
    },
    "language_info": {
      "name": "python"
    }
  },
  "cells": [
    {
      "cell_type": "markdown",
      "source": [
        "Развернуть у себя на компьютере/виртуальной машине/хостинге MongoDB и реализовать функцию, которая будет добавлять только новые вакансии/продукты в вашу базу.\n",
        "\n",
        "* Написать функцию, которая производит поиск и выводит на экран вакансии с заработной платой больше введённой суммы (необходимо анализировать оба поля зарплаты).\n",
        "\n",
        "* Любая аналитика. Например matching ваканский с разных площадок"
      ],
      "metadata": {
        "id": "QNfp-RdwIEZ1"
      }
    },
    {
      "cell_type": "markdown",
      "source": [
        "# Установим клиент и сервер MongoDB"
      ],
      "metadata": {
        "id": "wmTqGEW5IxN8"
      }
    },
    {
      "cell_type": "code",
      "execution_count": 28,
      "metadata": {
        "colab": {
          "base_uri": "https://localhost:8080/"
        },
        "id": "tS9t6OOSH2Mt",
        "outputId": "96ff226e-ace6-4508-e40a-355af63b5b8d"
      },
      "outputs": [
        {
          "output_type": "stream",
          "name": "stdout",
          "text": [
            "\n",
            "WARNING: apt does not have a stable CLI interface. Use with caution in scripts.\n",
            "\n"
          ]
        }
      ],
      "source": [
        "#!pip install pymongo\n",
        "!apt install mongodb > log"
      ]
    },
    {
      "cell_type": "code",
      "source": [
        "!service mongodb start"
      ],
      "metadata": {
        "colab": {
          "base_uri": "https://localhost:8080/"
        },
        "id": "v-F0Vc1RRI5L",
        "outputId": "c2a3bf82-1eca-4121-a780-ae1188d9f87b"
      },
      "execution_count": 29,
      "outputs": [
        {
          "output_type": "stream",
          "name": "stdout",
          "text": [
            " * Starting database mongodb\n",
            "   ...done.\n"
          ]
        }
      ]
    },
    {
      "cell_type": "code",
      "source": [
        "!pip install pymongo"
      ],
      "metadata": {
        "colab": {
          "base_uri": "https://localhost:8080/"
        },
        "id": "jshKo6sfRK0-",
        "outputId": "079c90ee-cb6d-4b49-dfc0-65bded2bf5a9"
      },
      "execution_count": 30,
      "outputs": [
        {
          "output_type": "stream",
          "name": "stdout",
          "text": [
            "Looking in indexes: https://pypi.org/simple, https://us-python.pkg.dev/colab-wheels/public/simple/\n",
            "Requirement already satisfied: pymongo in /usr/local/lib/python3.7/dist-packages (4.2.0)\n"
          ]
        }
      ]
    },
    {
      "cell_type": "code",
      "source": [
        "from pymongo import MongoClient"
      ],
      "metadata": {
        "id": "X_huYr7eRNxg"
      },
      "execution_count": 31,
      "outputs": []
    },
    {
      "cell_type": "code",
      "source": [
        "#Создадим клиента для работы с БД\n",
        "client = MongoClient('localhost:27017')"
      ],
      "metadata": {
        "id": "-XXRsDmMNL1j"
      },
      "execution_count": 23,
      "outputs": []
    },
    {
      "cell_type": "markdown",
      "source": [
        "# Наполним базу данных вакансиями с прошлого урока"
      ],
      "metadata": {
        "id": "ki-9Rm8nJROi"
      }
    },
    {
      "cell_type": "code",
      "source": [
        "#Сделаем функцию парсинга отдельно\n",
        "def PageParser_HH (url, params , headers):\n",
        "  vacancies_list = []\n",
        "  #Получение DOM с сайта\n",
        "  response = requests.get(url=url, params=params, headers=headers)\n",
        "  #Извлечение искомых полей\n",
        "  soup = bs(response.text, 'html.parser')\n",
        "  vacancies = soup.find_all('div', {'class': 'serp-item'})\n",
        "  #Оформление списка словарей вакансий  \n",
        "  for vacancy in vacancies:\n",
        "    vacancy_name = vacancy.find('a', {'class': 'serp-item__title'}).getText()\n",
        "    vacancy_link = vacancy.find('a', {'class': 'serp-item__title'})['href']\n",
        "    vacancy_salary = vacancy.find('span', {'data-qa': 'vacancy-serp__vacancy-compensation'})\n",
        "    if vacancy_salary is not None:\n",
        "      vacancy_salary = vacancy_salary.getText()\n",
        "\n",
        "    vacancy_dict = {\n",
        "        'name': vacancy_name,\n",
        "        'link': vacancy_link,\n",
        "        'salary': vacancy_salary,\n",
        "        'source': 'HeadHunter (https://hh.ru/)',\n",
        "        }\n",
        "    vacancies_list.append(vacancy_dict)\n",
        "  return vacancies_list"
      ],
      "metadata": {
        "id": "xarV8SLMK3ob"
      },
      "execution_count": 2,
      "outputs": []
    },
    {
      "cell_type": "code",
      "source": [
        "# Функция преобразовывающая строку зарплаты в словарь\n",
        "def Salary_trace(salary):\n",
        "  if salary != None:\n",
        "  #Возьмем строку и очистим от лишних символов\n",
        "   string = salary.replace('\\u202f','').replace(' ','')\n",
        "   #Вычленим валюту\n",
        "   currency = string\n",
        "   for c in ['0' , '1' ,'2' ,'3' ,'4' ,'5' ,'6' ,'7' ,'8' ,'9' ,'от' , 'до' , '–']:\n",
        "      currency = currency.replace(c,'')\n",
        "\n",
        "  #Вычленим минимальную ЗП\n",
        "   if string.find('от') > -1:\n",
        "     From = int(''.join(i for i in string if not ( i.isalpha() or i =='.')))\n",
        "   elif string.find('–') > -1:\n",
        "     From = int((string[:string.find(\"–\")]))\n",
        "   else: \n",
        "     From = None\n",
        "\n",
        "  #Вычленим максимальную ЗП\n",
        "   if string.find('до') > -1:\n",
        "     To = int(''.join(i for i in string if not ( i.isalpha() or i =='.')))\n",
        "   elif string.find('–') > -1:\n",
        "     To = int((string[string.find(\"–\")+1:string.find(currency)]))\n",
        "   else: \n",
        "     To = None\n",
        "\n",
        "  else:\n",
        "   From = None\n",
        "   To = None\n",
        "   currency = None\n",
        "\n",
        "  salary_dict = {'From': From , 'To' : To , 'currency' : currency }\n",
        "\n",
        "  return salary_dict"
      ],
      "metadata": {
        "id": "mdcNhc_PK3k-"
      },
      "execution_count": 3,
      "outputs": []
    },
    {
      "cell_type": "code",
      "source": [
        "from bs4 import BeautifulSoup as bs\n",
        "import requests"
      ],
      "metadata": {
        "id": "7tPn9jUBK3hm"
      },
      "execution_count": 4,
      "outputs": []
    },
    {
      "cell_type": "code",
      "source": [
        "url = 'https://hh.ru/search/vacancy?'\n",
        "NotEmpty = True\n",
        "SearchPage = 6\n",
        "vacancies_list = []\n",
        "\n",
        "params = {\n",
        "    'area': 1,\n",
        "    'text': 'python',\n",
        "    'items_on_page': 20,\n",
        "    'experience' : 'noExperience',\n",
        "    'page' : SearchPage\n",
        "}\n",
        "\n",
        "headers = {\n",
        "    'User-Agent': 'Mozilla/5.0 (Windows NT 10.0; Win64; x64) AppleWebKit/537.36 (KHTML, like Gecko) Chrome/104.0.5112.124',\n",
        "}"
      ],
      "metadata": {
        "id": "ZI2TdwRRK3eC"
      },
      "execution_count": 5,
      "outputs": []
    },
    {
      "cell_type": "code",
      "source": [
        "# Перебор страниц сайта с наполнением списка вакансий\n",
        "while NotEmpty:\n",
        "  vacancies_list_page = []\n",
        "  vacancies_list_page = PageParser_HH(url, params, headers)\n",
        "  vacancies_list = vacancies_list + vacancies_list_page\n",
        "  params[\"page\"] +=1  #Переход на следующую страницу поиска\n",
        "  if len(vacancies_list_page) == 0: # Проверка на наличие результата\n",
        "    NotEmpty = False\n"
      ],
      "metadata": {
        "id": "ve567RysK3a1"
      },
      "execution_count": 6,
      "outputs": []
    },
    {
      "cell_type": "code",
      "source": [
        "# Преобразуем зарплаты в словари зарплат\n",
        "for i in range(len(vacancies_list)):\n",
        "  vacancies_list[i]['salary'] = Salary_trace(vacancies_list[i]['salary'])\n",
        "  # из словаря извлечем в ключи\n",
        "  vacancies_list[i]['salary_From'] = vacancies_list[i]['salary']['From']\n",
        "  vacancies_list[i]['salary_To'] = vacancies_list[i]['salary']['To']\n",
        "  vacancies_list[i]['salary_currency'] = vacancies_list[i]['salary']['currency']\n",
        "  del vacancies_list[i]['salary']\n"
      ],
      "metadata": {
        "id": "9BRS8RXpK3XC"
      },
      "execution_count": 7,
      "outputs": []
    },
    {
      "cell_type": "markdown",
      "source": [
        "# Внесем полученные данные в базу:"
      ],
      "metadata": {
        "id": "NCOx6agZLTHj"
      }
    },
    {
      "cell_type": "code",
      "source": [
        "#Создадим ссылку на БД vacancies_DB\n",
        "db = client.vacancies_DB"
      ],
      "metadata": {
        "id": "LJ7d5-l9Ld17"
      },
      "execution_count": 24,
      "outputs": []
    },
    {
      "cell_type": "code",
      "source": [
        "#Создадим раздел БД (Коллекуию) vacancies_collection\n",
        "collection = db.vacancies_collection"
      ],
      "metadata": {
        "id": "GbZ8aAW0OeN5"
      },
      "execution_count": 25,
      "outputs": []
    },
    {
      "cell_type": "code",
      "source": [
        "#Функция очистки каталога )для теста)\n",
        "collection.delete_many({})"
      ],
      "metadata": {
        "colab": {
          "base_uri": "https://localhost:8080/"
        },
        "id": "BAK4I980YtnN",
        "outputId": "b3889974-12c1-47b7-9590-50ba538c3335"
      },
      "execution_count": 76,
      "outputs": [
        {
          "output_type": "execute_result",
          "data": {
            "text/plain": [
              "<pymongo.results.DeleteResult object at 0x7fab714c0b50>"
            ]
          },
          "metadata": {},
          "execution_count": 76
        }
      ]
    },
    {
      "cell_type": "code",
      "source": [
        "#Наполним коллекцию базы данных имеющимися данными\n",
        "for vacancy in vacancies_list:\n",
        "  collection.insert_one(vacancy)"
      ],
      "metadata": {
        "id": "bX3-tX4VLdyP"
      },
      "execution_count": 77,
      "outputs": []
    },
    {
      "cell_type": "code",
      "source": [
        "#Сравним количество записей в словаре и в каталоге базы данных\n",
        "print(len(vacancies_list))\n",
        "print(len(list(collection.find())))"
      ],
      "metadata": {
        "colab": {
          "base_uri": "https://localhost:8080/"
        },
        "id": "PC32G7VPSoIR",
        "outputId": "abef3f7f-bfa1-4978-ba0e-f529e6e47d05"
      },
      "execution_count": 78,
      "outputs": [
        {
          "output_type": "stream",
          "name": "stdout",
          "text": [
            "42\n",
            "42\n"
          ]
        }
      ]
    },
    {
      "cell_type": "code",
      "source": [
        "#Создадим функцию добавления только новых вакансий в базу данных\n",
        "def add_new_vacancy(vacancy , collection):\n",
        "  if (len(list(collection.find( { 'name' : vacancy['name']}))) > 0):\n",
        "    print('Вакансия с таким именем уже есть в каталоге:\\n', list(collection.find( { 'name' : vacancy['name']})))\n",
        "  else:\n",
        "    collection.insert_one(vacancy)"
      ],
      "metadata": {
        "id": "SlsMspKnTyOF"
      },
      "execution_count": 79,
      "outputs": []
    },
    {
      "cell_type": "code",
      "source": [
        "# Сделаем тестовую вакансию, отсутствующую в списке\n",
        "TestVac = {'name': 'Вакансия мечты!',\n",
        "           'link': 'https://www.youtube.com/watch?v=dQw4w9WgXcQ', \n",
        "           'source': 'Сверху', \n",
        "           'salary_From': 10000, \n",
        "           'salary_To': 200000, \n",
        "           'salary_currency': 'USD'}"
      ],
      "metadata": {
        "id": "Osi9CcUkWGvs"
      },
      "execution_count": 81,
      "outputs": []
    },
    {
      "cell_type": "code",
      "source": [
        "#Добавим существующую вакансию\n",
        "add_new_vacancy(vacancies_list[2] , collection)"
      ],
      "metadata": {
        "colab": {
          "base_uri": "https://localhost:8080/"
        },
        "id": "y6_F4K4dVw7I",
        "outputId": "f1dcd9dc-86cd-4425-96a7-c8cb25d01647"
      },
      "execution_count": 80,
      "outputs": [
        {
          "output_type": "stream",
          "name": "stdout",
          "text": [
            "Вакансия с таким именем уже есть в каталоге:\n",
            " [{'_id': ObjectId('633eca358d97155f9b91007b'), 'name': 'Стажер-программист 1С', 'link': 'https://hh.ru/vacancy/69956353?from=vacancy_search_list&hhtmFrom=vacancy_search_list&query=python', 'source': 'HeadHunter (https://hh.ru/)', 'salary_From': None, 'salary_To': None, 'salary_currency': None}]\n"
          ]
        }
      ]
    },
    {
      "cell_type": "code",
      "source": [
        "#Добавим новую вакансию\n",
        "add_new_vacancy(TestVac , collection)"
      ],
      "metadata": {
        "id": "IXKYvvC6XQmV"
      },
      "execution_count": 82,
      "outputs": []
    },
    {
      "cell_type": "code",
      "source": [
        "# Еще раз новую вакансию (чтобы проверить ошибку)\n",
        "add_new_vacancy(TestVac , collection)"
      ],
      "metadata": {
        "colab": {
          "base_uri": "https://localhost:8080/"
        },
        "id": "cip2l3mQYfzd",
        "outputId": "e07e3406-d4c5-4d22-9b55-a3a366497a00"
      },
      "execution_count": 83,
      "outputs": [
        {
          "output_type": "stream",
          "name": "stdout",
          "text": [
            "Вакансия с таким именем уже есть в каталоге:\n",
            " [{'_id': ObjectId('633ed1d38d97155f9b9100a4'), 'name': 'Вакансия мечты!', 'link': 'https://www.youtube.com/watch?v=dQw4w9WgXcQ', 'source': 'Сверху', 'salary_From': 10000, 'salary_To': 200000, 'salary_currency': 'USD'}]\n"
          ]
        }
      ]
    },
    {
      "cell_type": "markdown",
      "source": [
        "# Написать функцию, которая производит поиск и выводит на экран вакансии с заработной платой больше введённой суммы (необходимо анализировать оба поля зарплаты)."
      ],
      "metadata": {
        "id": "RgxwRXoqZkmb"
      }
    },
    {
      "cell_type": "code",
      "source": [
        "search_salary = int(input('Введите искомую зарплату (руб.): '))\n"
      ],
      "metadata": {
        "colab": {
          "base_uri": "https://localhost:8080/"
        },
        "id": "kjmvU4PASoCi",
        "outputId": "182641bc-e97f-4eca-9e6f-b86313b8bc09"
      },
      "execution_count": 91,
      "outputs": [
        {
          "name": "stdout",
          "output_type": "stream",
          "text": [
            "Введите искомую зарплату (руб.): 25000\n"
          ]
        }
      ]
    },
    {
      "cell_type": "code",
      "source": [
        "#Вывод вакансий с ЗП выше введенной\n",
        "reslist = list(collection.find( {'$or' : [\n",
        "    {'$and' : [{ '$or' : [ {'salary_From': {'$lt': search_salary}} , {'salary_To': {'$gt': search_salary}} ] },\n",
        "              {'salary_currency' : 'руб.' }]},\n",
        "    {'$and' : [{ '$or' : [ {'salary_From': {'$lt': search_salary/60}} , {'salary_To': {'$gt': search_salary/60}} ] },\n",
        "              {'salary_currency' : 'USD' }]}\n",
        "                                          ]} ))\n",
        "\n",
        "print( 'Вакансии с ЗП выше ' , search_salary )\n",
        "for v in reslist:\n",
        "  print(v)"
      ],
      "metadata": {
        "colab": {
          "base_uri": "https://localhost:8080/"
        },
        "id": "rqpIaUZFSn8u",
        "outputId": "68febd93-d53c-4085-8183-932f72120071"
      },
      "execution_count": 116,
      "outputs": [
        {
          "output_type": "stream",
          "name": "stdout",
          "text": [
            "Вакансии с ЗП выше  25000\n",
            "{'_id': ObjectId('633eca358d97155f9b91007d'), 'name': 'Ночной специалист службы поддержки с техническими знаниями (Браузер)', 'link': 'https://hh.ru/vacancy/48221815?from=vacancy_search_list&hhtmFrom=vacancy_search_list&query=python', 'source': 'HeadHunter (https://hh.ru/)', 'salary_From': 15000, 'salary_To': None, 'salary_currency': 'руб.'}\n",
            "{'_id': ObjectId('633eca358d97155f9b910082'), 'name': 'Преподаватель программирования для детей', 'link': 'https://hh.ru/vacancy/69884058?from=vacancy_search_list&hhtmFrom=vacancy_search_list&query=python', 'source': 'HeadHunter (https://hh.ru/)', 'salary_From': None, 'salary_To': 45000, 'salary_currency': 'руб.'}\n",
            "{'_id': ObjectId('633eca358d97155f9b910088'), 'name': 'Менеджер отдела ценовой политики', 'link': 'https://hh.ru/vacancy/69870192?from=vacancy_search_list&hhtmFrom=vacancy_search_list&query=python', 'source': 'HeadHunter (https://hh.ru/)', 'salary_From': None, 'salary_To': 75500, 'salary_currency': 'руб.'}\n",
            "{'_id': ObjectId('633eca358d97155f9b91008a'), 'name': 'Преподаватель компьютерных/IT курсов, программирования, информатики', 'link': 'https://hh.ru/vacancy/69763472?from=vacancy_search_list&hhtmFrom=vacancy_search_list&query=python', 'source': 'HeadHunter (https://hh.ru/)', 'salary_From': None, 'salary_To': 100000, 'salary_currency': 'руб.'}\n",
            "{'_id': ObjectId('633eca358d97155f9b91008c'), 'name': 'Platform Reliability Engineer', 'link': 'https://hh.ru/vacancy/69720376?from=vacancy_search_list&hhtmFrom=vacancy_search_list&query=python', 'source': 'HeadHunter (https://hh.ru/)', 'salary_From': 1000, 'salary_To': 1500, 'salary_currency': 'USD'}\n",
            "{'_id': ObjectId('633eca358d97155f9b91008e'), 'name': 'Специалист службы поддержки с техническими знаниями (Контест)', 'link': 'https://hh.ru/vacancy/48224439?from=vacancy_search_list&hhtmFrom=vacancy_search_list&query=python', 'source': 'HeadHunter (https://hh.ru/)', 'salary_From': 15000, 'salary_To': None, 'salary_currency': 'руб.'}\n",
            "{'_id': ObjectId('633eca358d97155f9b910091'), 'name': 'Специалист службы поддержки с техническими знаниями (Яндекс ID)', 'link': 'https://hh.ru/vacancy/48037474?from=vacancy_search_list&hhtmFrom=vacancy_search_list&query=python', 'source': 'HeadHunter (https://hh.ru/)', 'salary_From': 15000, 'salary_To': None, 'salary_currency': 'руб.'}\n",
            "{'_id': ObjectId('633eca358d97155f9b910092'), 'name': 'Менеджер (удаленно) по продажам и сопровождению клиентов', 'link': 'https://hh.ru/vacancy/69793640?from=vacancy_search_list&hhtmFrom=vacancy_search_list&query=python', 'source': 'HeadHunter (https://hh.ru/)', 'salary_From': 20000, 'salary_To': 30000, 'salary_currency': 'руб.'}\n",
            "{'_id': ObjectId('633eca358d97155f9b910093'), 'name': 'Специалист службы поддержки с техническими знаниями (Умные устройства)', 'link': 'https://hh.ru/vacancy/48036812?from=vacancy_search_list&hhtmFrom=vacancy_search_list&query=python', 'source': 'HeadHunter (https://hh.ru/)', 'salary_From': 15000, 'salary_To': None, 'salary_currency': 'руб.'}\n",
            "{'_id': ObjectId('633eca358d97155f9b910095'), 'name': 'Специалист службы поддержки с техническими знаниями (Карты)', 'link': 'https://hh.ru/vacancy/48037770?from=vacancy_search_list&hhtmFrom=vacancy_search_list&query=python', 'source': 'HeadHunter (https://hh.ru/)', 'salary_From': 15000, 'salary_To': None, 'salary_currency': 'руб.'}\n",
            "{'_id': ObjectId('633eca358d97155f9b910096'), 'name': 'Специалист технической поддержки', 'link': 'https://hh.ru/vacancy/69711857?from=vacancy_search_list&hhtmFrom=vacancy_search_list&query=python', 'source': 'HeadHunter (https://hh.ru/)', 'salary_From': 15000, 'salary_To': None, 'salary_currency': 'руб.'}\n",
            "{'_id': ObjectId('633eca358d97155f9b91009d'), 'name': 'Младший аналитик (IT)', 'link': 'https://hh.ru/vacancy/69734255?from=vacancy_search_list&hhtmFrom=vacancy_search_list&query=python', 'source': 'HeadHunter (https://hh.ru/)', 'salary_From': 100000, 'salary_To': 130000, 'salary_currency': 'руб.'}\n",
            "{'_id': ObjectId('633eca358d97155f9b91009e'), 'name': 'Руководитель отдела технической поддержки (удалённо)', 'link': 'https://hh.ru/vacancy/68557973?from=vacancy_search_list&hhtmFrom=vacancy_search_list&query=python', 'source': 'HeadHunter (https://hh.ru/)', 'salary_From': 80000, 'salary_To': 100000, 'salary_currency': 'руб.'}\n",
            "{'_id': ObjectId('633ed1d38d97155f9b9100a4'), 'name': 'Вакансия мечты!', 'link': 'https://www.youtube.com/watch?v=dQw4w9WgXcQ', 'source': 'Сверху', 'salary_From': 10000, 'salary_To': 200000, 'salary_currency': 'USD'}\n"
          ]
        }
      ]
    }
  ]
}