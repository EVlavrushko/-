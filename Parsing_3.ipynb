{
  "nbformat": 4,
  "nbformat_minor": 0,
  "metadata": {
    "colab": {
      "provenance": [],
      "collapsed_sections": []
    },
    "kernelspec": {
      "name": "python3",
      "display_name": "Python 3"
    },
    "language_info": {
      "name": "python"
    }
  },
  "cells": [
    {
      "cell_type": "markdown",
      "source": [
        "Собрать информацию о вакансиях на вводимую должность с сайтов hh.ru и/или Superjob и/или работа.ру. Приложение должно анализировать несколько страниц сайта. Получившийся список должен содержать в себе минимум:\n",
        "Наименование вакансии.\n",
        "Предлагаемую зарплату (дополнительно: разносим в три поля: минимальная и максимальная и валюта. цифры преобразуем к цифрам).\n",
        "Ссылку на саму вакансию.\n",
        "Сайт, откуда собрана вакансия.\n",
        "По желанию можно добавить ещё параметры вакансии (например, работодателя и расположение). Структура должна быть одинаковая для вакансий с всех сайтов. Общий результат можно вывести с помощью dataFrame через pandas, сохранить в json, либо csv."
      ],
      "metadata": {
        "id": "UdfqBwJ5DTAi"
      }
    },
    {
      "cell_type": "code",
      "source": [
        "#Сделаем функцию парсинга отдельно\n",
        "def PageParser_HH (url, params , headers):\n",
        "  vacancies_list = []\n",
        "  #Получение DOM с сайта\n",
        "  response = requests.get(url=url, params=params, headers=headers)\n",
        "  #Извлечение искомых полей\n",
        "  soup = bs(response.text, 'html.parser')\n",
        "  vacancies = soup.find_all('div', {'class': 'serp-item'})\n",
        "  #Оформление списка словарей вакансий  \n",
        "  for vacancy in vacancies:\n",
        "    vacancy_name = vacancy.find('a', {'class': 'serp-item__title'}).getText()\n",
        "    vacancy_link = vacancy.find('a', {'class': 'serp-item__title'})['href']\n",
        "    vacancy_salary = vacancy.find('span', {'data-qa': 'vacancy-serp__vacancy-compensation'})\n",
        "    if vacancy_salary is not None:\n",
        "      vacancy_salary = vacancy_salary.getText()\n",
        "\n",
        "    vacancy_dict = {\n",
        "        'name': vacancy_name,\n",
        "        'link': vacancy_link,\n",
        "        'salary': vacancy_salary,\n",
        "        'source': 'HeadHunter (https://hh.ru/)',\n",
        "        }\n",
        "    vacancies_list.append(vacancy_dict)\n",
        "  return vacancies_list"
      ],
      "metadata": {
        "id": "1rkQ3nfUKxfK"
      },
      "execution_count": 457,
      "outputs": []
    },
    {
      "cell_type": "code",
      "source": [
        "# Функция преобразовывающая строку зарплаты в словарь\n",
        "def Salary_trace(salary):\n",
        "  if salary != None:\n",
        "  #Возьмем строку и очистим от лишних символов\n",
        "   string = salary.replace('\\u202f','').replace(' ','')\n",
        "   #Вычленим валюту\n",
        "   currency = string\n",
        "   for c in ['0' , '1' ,'2' ,'3' ,'4' ,'5' ,'6' ,'7' ,'8' ,'9' ,'от' , 'до' , '–']:\n",
        "      currency = currency.replace(c,'')\n",
        "\n",
        "  #Вычленим минимальную ЗП\n",
        "   if string.find('от') > -1:\n",
        "     From = int(''.join(i for i in string if not ( i.isalpha() or i =='.')))\n",
        "   elif string.find('–') > -1:\n",
        "     From = int((string[:string.find(\"–\")]))\n",
        "   else: \n",
        "     From = None\n",
        "\n",
        "  #Вычленим максимальную ЗП\n",
        "   if string.find('до') > -1:\n",
        "     To = int(''.join(i for i in string if not ( i.isalpha() or i =='.')))\n",
        "   elif string.find('–') > -1:\n",
        "     To = int((string[string.find(\"–\")+1:string.find(currency)]))\n",
        "   else: \n",
        "     To = None\n",
        "\n",
        "  else:\n",
        "   From = None\n",
        "   To = None\n",
        "   currency = None\n",
        "\n",
        "  salary_dict = {'From': From , 'To' : To , 'currency' : currency }\n",
        "\n",
        "  return salary_dict\n"
      ],
      "metadata": {
        "id": "LVTn-LCrU4Kl"
      },
      "execution_count": 458,
      "outputs": []
    },
    {
      "cell_type": "code",
      "execution_count": 459,
      "metadata": {
        "id": "oUaOGAE5DMpp"
      },
      "outputs": [],
      "source": [
        "from bs4 import BeautifulSoup as bs\n",
        "import requests"
      ]
    },
    {
      "cell_type": "code",
      "source": [
        "url = 'https://hh.ru/search/vacancy?'\n",
        "NotEmpty = True\n",
        "SearchPage = 6\n",
        "vacancies_list = []\n",
        "\n",
        "params = {\n",
        "    'area': 1,\n",
        "    'text': 'python',\n",
        "    'items_on_page': 20,\n",
        "    'experience' : 'noExperience',\n",
        "    'page' : SearchPage\n",
        "}\n",
        "\n",
        "headers = {\n",
        "    'User-Agent': 'Mozilla/5.0 (Windows NT 10.0; Win64; x64) AppleWebKit/537.36 (KHTML, like Gecko) Chrome/104.0.5112.124',\n",
        "}"
      ],
      "metadata": {
        "id": "J4REYMweD2f2"
      },
      "execution_count": 460,
      "outputs": []
    },
    {
      "cell_type": "code",
      "source": [
        "# Перебор страниц сайта с наполнением списка вакансий\n",
        "while NotEmpty:\n",
        "  vacancies_list_page = []\n",
        "  vacancies_list_page = PageParser_HH(url, params, headers)\n",
        "  vacancies_list = vacancies_list + vacancies_list_page\n",
        "  params[\"page\"] +=1  #Переход на следующую страницу поиска\n",
        "  if len(vacancies_list_page) == 0: # Проверка на наличие результата\n",
        "    NotEmpty = False\n"
      ],
      "metadata": {
        "id": "xdmLiHOkI6lj"
      },
      "execution_count": 461,
      "outputs": []
    },
    {
      "cell_type": "code",
      "source": [
        "# Преобразуем зарплаты в словари зарплат\n",
        "for i in range(len(vacancies_list)):\n",
        "  vacancies_list[i]['salary'] = Salary_trace(vacancies_list[i]['salary'])\n",
        "  # из словаря извлечем в ключи\n",
        "  vacancies_list[i]['salary_From'] = vacancies_list[i]['salary']['From']\n",
        "  vacancies_list[i]['salary_To'] = vacancies_list[i]['salary']['To']\n",
        "  vacancies_list[i]['salary_currency'] = vacancies_list[i]['salary']['currency']\n",
        "  del vacancies_list[i]['salary']\n"
      ],
      "metadata": {
        "id": "lkapk67cwjZA"
      },
      "execution_count": 462,
      "outputs": []
    },
    {
      "cell_type": "markdown",
      "source": [
        "Подготовим из результата датафрейм и запишем его в файл json"
      ],
      "metadata": {
        "id": "SGfo7T-57lf9"
      }
    },
    {
      "cell_type": "code",
      "source": [
        "import pandas as pd"
      ],
      "metadata": {
        "id": "0dLKNrgd7-6J"
      },
      "execution_count": 463,
      "outputs": []
    },
    {
      "cell_type": "code",
      "source": [
        "df = pd.DataFrame( vacancies_list ) \n",
        "print(df)"
      ],
      "metadata": {
        "colab": {
          "base_uri": "https://localhost:8080/"
        },
        "id": "tGk8ay4D7-81",
        "outputId": "90268a74-c14f-41ec-9d25-ea194999b36b"
      },
      "execution_count": 464,
      "outputs": [
        {
          "output_type": "stream",
          "name": "stdout",
          "text": [
            "                                                 name  \\\n",
            "0   Ночной специалист службы поддержки с техническ...   \n",
            "1                                  Junior C developer   \n",
            "2   Эксперт отдела надзора (Департамент микрофинан...   \n",
            "3                             Quantitative Researcher   \n",
            "4                               Стажер-разработчик C#   \n",
            "5            Преподаватель программирования для детей   \n",
            "6             Team Lead команды репутационная система   \n",
            "7   Старший разработчик Go мониторинг, Платформа, ...   \n",
            "8   Аналитик-разработчик в команду технологий безо...   \n",
            "9                                  Стажер Sber AI Lab   \n",
            "10                   Junior Product Analyst (Gamedev)   \n",
            "11                   Специалист технической поддержки   \n",
            "12                   Менеджер отдела ценовой политики   \n",
            "13       Младший аналитик (управленческая отчетность)   \n",
            "14  Преподаватель компьютерных/IT курсов, программ...   \n",
            "15                   Инженер по защите web приложений   \n",
            "16                              Стажер DevOps-инженер   \n",
            "17                      Platform Reliability Engineer   \n",
            "18   Стажер направления Анализ и моделирование рисков   \n",
            "19  Специалист службы поддержки с техническими зна...   \n",
            "20  Специалист службы поддержки с техническими зна...   \n",
            "21                                       Дата-инженер   \n",
            "22                                     Devops инженер   \n",
            "23  Специалист службы поддержки с техническими зна...   \n",
            "24  Менеджер (удаленно) по продажам и сопровождени...   \n",
            "25  Специалист службы поддержки с техническими зна...   \n",
            "26  Специалист службы поддержки с техническими зна...   \n",
            "27            Главный специалист по кибербезопасности   \n",
            "28                   Специалист технической поддержки   \n",
            "29                          Junior Backoffice Analyst   \n",
            "30           Технический писатель открытой библиотеки   \n",
            "31                       QA Engineer на мобильную RTS   \n",
            "32               Аналитик по расчету резервов по РСБУ   \n",
            "33   Аналитик экономико-математического моделирования   \n",
            "34  Специалист (расчет ликвидности и процентного р...   \n",
            "35                              Младший аналитик (IT)   \n",
            "36  Руководитель отдела технической поддержки (уда...   \n",
            "37       Практикант направления ИТ (Блок Архитектура)   \n",
            "38               Инженер по тестированию оборудования   \n",
            "39                 Стажер-аналитик в финансовый отдел   \n",
            "40  Начальник аналитического отдела (Управление го...   \n",
            "41  Специалист по технической поддержке программно...   \n",
            "42                      Software development engineer   \n",
            "\n",
            "                                                 link  \\\n",
            "0   https://hh.ru/vacancy/48221815?from=vacancy_se...   \n",
            "1   https://hh.ru/vacancy/51702201?from=vacancy_se...   \n",
            "2   https://hh.ru/vacancy/69952785?from=vacancy_se...   \n",
            "3   https://hh.ru/vacancy/69898935?from=vacancy_se...   \n",
            "4   https://hh.ru/vacancy/69909936?from=vacancy_se...   \n",
            "5   https://hh.ru/vacancy/69884058?from=vacancy_se...   \n",
            "6   https://hh.ru/vacancy/69891151?from=vacancy_se...   \n",
            "7   https://hh.ru/vacancy/68839465?from=vacancy_se...   \n",
            "8   https://hh.ru/vacancy/69806167?from=vacancy_se...   \n",
            "9   https://hh.ru/vacancy/69803645?from=vacancy_se...   \n",
            "10  https://hh.ru/vacancy/69805636?from=vacancy_se...   \n",
            "11  https://hh.ru/vacancy/69847415?from=vacancy_se...   \n",
            "12  https://hh.ru/vacancy/69870192?from=vacancy_se...   \n",
            "13  https://hh.ru/vacancy/69821609?from=vacancy_se...   \n",
            "14  https://hh.ru/vacancy/69763472?from=vacancy_se...   \n",
            "15  https://hh.ru/vacancy/69766776?from=vacancy_se...   \n",
            "16  https://hh.ru/vacancy/69722296?from=vacancy_se...   \n",
            "17  https://hh.ru/vacancy/69720376?from=vacancy_se...   \n",
            "18  https://hh.ru/vacancy/69732988?from=vacancy_se...   \n",
            "19  https://hh.ru/vacancy/48224439?from=vacancy_se...   \n",
            "20  https://hh.ru/vacancy/48224439?from=vacancy_se...   \n",
            "21  https://hh.ru/vacancy/67761740?from=vacancy_se...   \n",
            "22  https://hh.ru/vacancy/68736394?from=vacancy_se...   \n",
            "23  https://hh.ru/vacancy/48037474?from=vacancy_se...   \n",
            "24  https://hh.ru/vacancy/69793640?from=vacancy_se...   \n",
            "25  https://hh.ru/vacancy/48036812?from=vacancy_se...   \n",
            "26  https://hh.ru/vacancy/48037770?from=vacancy_se...   \n",
            "27  https://hh.ru/vacancy/69706848?from=vacancy_se...   \n",
            "28  https://hh.ru/vacancy/69711857?from=vacancy_se...   \n",
            "29  https://hh.ru/vacancy/69861199?from=vacancy_se...   \n",
            "30  https://hh.ru/vacancy/69649317?from=vacancy_se...   \n",
            "31  https://hh.ru/vacancy/69613207?from=vacancy_se...   \n",
            "32  https://hh.ru/vacancy/69661129?from=vacancy_se...   \n",
            "33  https://hh.ru/vacancy/67728403?from=vacancy_se...   \n",
            "34  https://hh.ru/vacancy/69604987?from=vacancy_se...   \n",
            "35  https://hh.ru/vacancy/69734255?from=vacancy_se...   \n",
            "36  https://hh.ru/vacancy/68557973?from=vacancy_se...   \n",
            "37  https://hh.ru/vacancy/69526477?from=vacancy_se...   \n",
            "38  https://hh.ru/vacancy/67395563?from=vacancy_se...   \n",
            "39  https://hh.ru/vacancy/69542348?from=vacancy_se...   \n",
            "40  https://hh.ru/vacancy/69525705?from=vacancy_se...   \n",
            "41  https://hh.ru/vacancy/69774153?from=vacancy_se...   \n",
            "42  https://hh.ru/vacancy/69279228?from=vacancy_se...   \n",
            "\n",
            "                         source  salary_From  salary_To salary_currency  \n",
            "0   HeadHunter (https://hh.ru/)      15000.0        NaN            руб.  \n",
            "1   HeadHunter (https://hh.ru/)          NaN        NaN            None  \n",
            "2   HeadHunter (https://hh.ru/)          NaN        NaN            None  \n",
            "3   HeadHunter (https://hh.ru/)       3200.0        NaN             USD  \n",
            "4   HeadHunter (https://hh.ru/)          NaN        NaN            None  \n",
            "5   HeadHunter (https://hh.ru/)          NaN    45000.0            руб.  \n",
            "6   HeadHunter (https://hh.ru/)          NaN        NaN            None  \n",
            "7   HeadHunter (https://hh.ru/)          NaN        NaN            None  \n",
            "8   HeadHunter (https://hh.ru/)          NaN        NaN            None  \n",
            "9   HeadHunter (https://hh.ru/)          NaN        NaN            None  \n",
            "10  HeadHunter (https://hh.ru/)          NaN        NaN            None  \n",
            "11  HeadHunter (https://hh.ru/)          NaN        NaN            None  \n",
            "12  HeadHunter (https://hh.ru/)          NaN    75500.0            руб.  \n",
            "13  HeadHunter (https://hh.ru/)          NaN        NaN            None  \n",
            "14  HeadHunter (https://hh.ru/)          NaN   100000.0            руб.  \n",
            "15  HeadHunter (https://hh.ru/)          NaN        NaN            None  \n",
            "16  HeadHunter (https://hh.ru/)          NaN        NaN            None  \n",
            "17  HeadHunter (https://hh.ru/)       1000.0     1500.0             USD  \n",
            "18  HeadHunter (https://hh.ru/)      50000.0        NaN            руб.  \n",
            "19  HeadHunter (https://hh.ru/)      15000.0        NaN            руб.  \n",
            "20  HeadHunter (https://hh.ru/)      15000.0        NaN            руб.  \n",
            "21  HeadHunter (https://hh.ru/)          NaN        NaN            None  \n",
            "22  HeadHunter (https://hh.ru/)          NaN        NaN            None  \n",
            "23  HeadHunter (https://hh.ru/)      15000.0        NaN            руб.  \n",
            "24  HeadHunter (https://hh.ru/)      20000.0    30000.0            руб.  \n",
            "25  HeadHunter (https://hh.ru/)      15000.0        NaN            руб.  \n",
            "26  HeadHunter (https://hh.ru/)      15000.0        NaN            руб.  \n",
            "27  HeadHunter (https://hh.ru/)          NaN        NaN            None  \n",
            "28  HeadHunter (https://hh.ru/)      15000.0        NaN            руб.  \n",
            "29  HeadHunter (https://hh.ru/)          NaN        NaN            None  \n",
            "30  HeadHunter (https://hh.ru/)          NaN        NaN            None  \n",
            "31  HeadHunter (https://hh.ru/)          NaN        NaN            None  \n",
            "32  HeadHunter (https://hh.ru/)          NaN        NaN            None  \n",
            "33  HeadHunter (https://hh.ru/)          NaN        NaN            None  \n",
            "34  HeadHunter (https://hh.ru/)          NaN        NaN            None  \n",
            "35  HeadHunter (https://hh.ru/)     100000.0   130000.0            руб.  \n",
            "36  HeadHunter (https://hh.ru/)      80000.0   100000.0            руб.  \n",
            "37  HeadHunter (https://hh.ru/)          NaN        NaN            None  \n",
            "38  HeadHunter (https://hh.ru/)          NaN        NaN            None  \n",
            "39  HeadHunter (https://hh.ru/)      41000.0        NaN            руб.  \n",
            "40  HeadHunter (https://hh.ru/)          NaN        NaN            None  \n",
            "41  HeadHunter (https://hh.ru/)      50000.0        NaN            руб.  \n",
            "42  HeadHunter (https://hh.ru/)          NaN        NaN            None  \n"
          ]
        }
      ]
    },
    {
      "cell_type": "code",
      "source": [
        "#Сохраним файл json\n",
        "df.to_json('vacancies.json')"
      ],
      "metadata": {
        "id": "aDPY_Sab9Fz3"
      },
      "execution_count": 465,
      "outputs": []
    }
  ]
}