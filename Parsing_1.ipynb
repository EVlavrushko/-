{
  "nbformat": 4,
  "nbformat_minor": 0,
  "metadata": {
    "colab": {
      "provenance": [],
      "collapsed_sections": []
    },
    "kernelspec": {
      "name": "python3",
      "display_name": "Python 3"
    },
    "language_info": {
      "name": "python"
    }
  },
  "cells": [
    {
      "cell_type": "markdown",
      "source": [
        "1. Посмотреть документацию к API GitHub, разобраться как вывести список репозиториев для конкретного пользователя, сохранить JSON-вывод в файле *.json."
      ],
      "metadata": {
        "id": "k4Seo_QBF6wc"
      }
    },
    {
      "cell_type": "code",
      "source": [
        "#!pip install requests\n",
        "import requests\n",
        "from pprint import pprint"
      ],
      "metadata": {
        "id": "LhL2wdg6-O3e"
      },
      "execution_count": 4,
      "outputs": []
    },
    {
      "cell_type": "code",
      "source": [
        "response = requests.get(\"https://api.github.com/users/EVlavrushko/repos\")\n",
        "print(response.headers)"
      ],
      "metadata": {
        "colab": {
          "base_uri": "https://localhost:8080/"
        },
        "id": "51s6xpYI-Y7R",
        "outputId": "d7bd716b-ce92-46c3-f938-c788eadb3bd1"
      },
      "execution_count": 5,
      "outputs": [
        {
          "output_type": "stream",
          "name": "stdout",
          "text": [
            "{'Server': 'GitHub.com', 'Date': 'Mon, 03 Oct 2022 13:28:40 GMT', 'Content-Type': 'application/json; charset=utf-8', 'Cache-Control': 'public, max-age=60, s-maxage=60', 'Vary': 'Accept, Accept-Encoding, Accept, X-Requested-With', 'ETag': 'W/\"36493c0f86038ab22a7d498eafcb8084fdbbf3d14aae7f7576d7f2becd09357c\"', 'X-GitHub-Media-Type': 'github.v3; format=json', 'Access-Control-Expose-Headers': 'ETag, Link, Location, Retry-After, X-GitHub-OTP, X-RateLimit-Limit, X-RateLimit-Remaining, X-RateLimit-Used, X-RateLimit-Resource, X-RateLimit-Reset, X-OAuth-Scopes, X-Accepted-OAuth-Scopes, X-Poll-Interval, X-GitHub-Media-Type, X-GitHub-SSO, X-GitHub-Request-Id, Deprecation, Sunset', 'Access-Control-Allow-Origin': '*', 'Strict-Transport-Security': 'max-age=31536000; includeSubdomains; preload', 'X-Frame-Options': 'deny', 'X-Content-Type-Options': 'nosniff', 'X-XSS-Protection': '0', 'Referrer-Policy': 'origin-when-cross-origin, strict-origin-when-cross-origin', 'Content-Security-Policy': \"default-src 'none'\", 'Content-Encoding': 'gzip', 'X-RateLimit-Limit': '60', 'X-RateLimit-Remaining': '59', 'X-RateLimit-Reset': '1664807320', 'X-RateLimit-Resource': 'core', 'X-RateLimit-Used': '1', 'Accept-Ranges': 'bytes', 'Content-Length': '2001', 'X-GitHub-Request-Id': 'E4D8:43A1:504C2A:A44F51:633AE388'}\n"
          ]
        }
      ]
    },
    {
      "cell_type": "code",
      "source": [
        "#вывод содержимого файла\n",
        "#pprint(response.json())"
      ],
      "metadata": {
        "id": "KkXBpXlX_QqB"
      },
      "execution_count": 7,
      "outputs": []
    },
    {
      "cell_type": "code",
      "source": [
        "#Сохранение файла\n",
        "import json\n",
        "with open('Repos.txt', 'w') as outfile:\n",
        "    json.dump(response.json(), outfile)"
      ],
      "metadata": {
        "id": "ZEsFeMzHFEb-"
      },
      "execution_count": 8,
      "outputs": []
    },
    {
      "cell_type": "markdown",
      "source": [
        "2. Работа будет состоять с недокументированным API. Нужно ввести релевантный запрос на сайте https://www.delivery-club.ru/search\n",
        "(а) из предложенных точек с помощью API найти долю (в %) с бесплатной и платной доставкой. Для каждой категории рассчитать среднюю минимальную стоимость заказа.\n",
        "(б) для каждой из категорий из пункта (а) рассчитать долю (в %) магазинов и ресторанов"
      ],
      "metadata": {
        "id": "AM5tjV7bF-_a"
      }
    },
    {
      "cell_type": "code",
      "source": [
        "url = \"https://api.delivery-club.ru/api1.2/vendors/search?latitude=55.755246&longitude=37.617779&query=пицца&cacheBreaker=1664218928\"\n",
        "url = \"https://www.delivery-club.ru/moscow/grocery\"\n"
      ],
      "metadata": {
        "id": "m4TvGw_SGWVm"
      },
      "execution_count": 59,
      "outputs": []
    },
    {
      "cell_type": "code",
      "source": [
        "response = requests.get(url = url)\n",
        "print(response.headers)"
      ],
      "metadata": {
        "colab": {
          "base_uri": "https://localhost:8080/"
        },
        "outputId": "13dba3ff-4813-4baa-f7c2-0b9fb97e9e99",
        "id": "ieKcVRRSG2nh"
      },
      "execution_count": 60,
      "outputs": [
        {
          "output_type": "stream",
          "name": "stdout",
          "text": [
            "{'Server': 'nginx/1.21.6', 'Date': 'Mon, 03 Oct 2022 14:26:12 GMT', 'Content-Type': 'text/html; charset=utf-8', 'Transfer-Encoding': 'chunked', 'Connection': 'keep-alive', 'Vary': 'Accept-Encoding', 'Content-Security-Policy': \"frame-ancestors 'self' https://webtour360.ru https://new-depo.ru https://depomoscow.ru https://360space.ru https://vseapteki.ru;\", 'Referrer-Policy': 'no-referrer-when-downgrade', 'Content-Encoding': 'gzip'}\n"
          ]
        }
      ]
    },
    {
      "cell_type": "code",
      "source": [
        "#data = json.loads(response.json())\n",
        "jtopy=json.dumps(response.json()) #json.dumps take a dictionary as input and returns a string as output.\n",
        "dict_json=json.loads(jtopy) # json.loads take a string as input and returns a dictionary as output."
      ],
      "metadata": {
        "id": "5v-uBXZTJERR"
      },
      "execution_count": 58,
      "outputs": []
    },
    {
      "cell_type": "code",
      "source": [
        "#pprint(dict_json['vendors'])"
      ],
      "metadata": {
        "id": "l9S1HYFrQ2uw"
      },
      "execution_count": 50,
      "outputs": []
    },
    {
      "cell_type": "code",
      "source": [
        "# (А) количество с бесплатной  и платной доставкой\n",
        "free_delivery = 0\n",
        "not_free_delivery = 0\n",
        "Average_minorder_price_free = 0\n",
        "Average_minorder_price_not_free = 0\n",
        "\n",
        "numshop_free = 0 # Для задания Б\n",
        "numcafe_free = 0 # Для задания Б\n",
        "numshop_not_free = 0 # Для задания Б\n",
        "numcafe_not_free = 0 # Для задания Б\n",
        "\n",
        "for cafe in dict_json['vendors']:\n",
        "  if cafe['delivery']['price']['value'] > 0:\n",
        "    not_free_delivery +=1\n",
        "    Average_minorder_price_free = Average_minorder_price_free + cafe['delivery']['minOrderPrice']['value']\n",
        "   \n",
        "    if cafe['categoryId'] == 1:\n",
        "     numcafe_not_free +=1\n",
        "    else:\n",
        "      numshop_not_free +=1\n",
        "\n",
        "  else:\n",
        "    free_delivery +=1\n",
        "    Average_minorder_price_not_free = Average_minorder_price_not_free + cafe['delivery']['minOrderPrice']['value']\n",
        "    \n",
        "    if cafe['categoryId'] == 1:\n",
        "      numcafe_free +=1\n",
        "    else:\n",
        "      numshop_free +=1\n",
        "\n",
        "#print(\"Всего \", free_delivery, \"кафе с бесплатной доставкой ( \", round(free_delivery / (free_delivery + not_free_delivery)*100, 2), \"% )\")\n",
        "#print(\"Средняя минимальная стоимость заказа для ресторанов с бесплатной доставкой = \", round(Average_minorder_price_free / (free_delivery), 2))\n",
        "#print(\"Всего \", not_free_delivery, \"кафе с платной доставкой ( \", round(not_free_delivery / (free_delivery + not_free_delivery)*100, 2), \"% )\")\n",
        "#print(\"Средняя минимальная стоимость заказа для ресторанов с платной доставкой = \", round(Average_minorder_price_not_free / (not_free_delivery), 2))"
      ],
      "metadata": {
        "id": "MLqqv86vGgIR"
      },
      "execution_count": 66,
      "outputs": []
    },
    {
      "cell_type": "code",
      "source": [
        "# (Б) количество с бесплатной  и платной доставкой\n",
        "\n",
        "print(\"Среди точек с бесплатной доставкой\", round(numshop_free/(numshop_free + numcafe_free)*100, 2) ,\" % магазинов и\", round(numcafe_free/(numshop_free + numcafe_free)*100,2),\" % кафе \")\n",
        "print(\"Среди точек с платной доставкой\", round(numshop_not_free/(numshop_not_free + numcafe_not_free)*100, 2) ,\" % магазинов и\", round(numcafe_not_free/(numshop_not_free + numcafe_not_free)*100,2),\" % кафе \")"
      ],
      "metadata": {
        "colab": {
          "base_uri": "https://localhost:8080/"
        },
        "id": "N3wEN0aZMies",
        "outputId": "7800f151-b39c-49ef-a25a-8762b12cb29f"
      },
      "execution_count": 70,
      "outputs": [
        {
          "output_type": "stream",
          "name": "stdout",
          "text": [
            "Среди точек с бесплатной доставкой 0.0  % магазинов и 100.0  % кафе \n",
            "Среди точек с платной доставкой 2.08  % магазинов и 97.92  % кафе \n"
          ]
        }
      ]
    }
  ]
}